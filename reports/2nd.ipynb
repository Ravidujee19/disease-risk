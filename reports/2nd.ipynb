{
 "cells": [
  {
   "cell_type": "code",
   "execution_count": 5,
   "id": "dd026d69-45ee-4642-94b0-065654968a0a",
   "metadata": {},
   "outputs": [],
   "source": [
    "import pandas as pd\n",
    "import matplotlib.pyplot as plt\n",
    "import os"
   ]
  },
  {
   "cell_type": "code",
   "execution_count": 6,
   "id": "8ac0cf46-8243-4a6d-bd99-1eafc8683ec1",
   "metadata": {},
   "outputs": [
    {
     "data": {
      "text/html": [
       "<div>\n",
       "<style scoped>\n",
       "    .dataframe tbody tr th:only-of-type {\n",
       "        vertical-align: middle;\n",
       "    }\n",
       "\n",
       "    .dataframe tbody tr th {\n",
       "        vertical-align: top;\n",
       "    }\n",
       "\n",
       "    .dataframe thead th {\n",
       "        text-align: right;\n",
       "    }\n",
       "</style>\n",
       "<table border=\"1\" class=\"dataframe\">\n",
       "  <thead>\n",
       "    <tr style=\"text-align: right;\">\n",
       "      <th></th>\n",
       "      <th>age</th>\n",
       "      <th>gender</th>\n",
       "      <th>height</th>\n",
       "      <th>weight</th>\n",
       "      <th>bmi</th>\n",
       "      <th>waist_size</th>\n",
       "      <th>blood_pressure</th>\n",
       "      <th>heart_rate</th>\n",
       "      <th>cholesterol</th>\n",
       "      <th>glucose</th>\n",
       "      <th>...</th>\n",
       "      <th>sunlight_exposure</th>\n",
       "      <th>meals_per_day</th>\n",
       "      <th>caffeine_intake</th>\n",
       "      <th>family_history</th>\n",
       "      <th>pet_owner</th>\n",
       "      <th>electrolyte_level</th>\n",
       "      <th>gene_marker_flag</th>\n",
       "      <th>environmental_risk_score</th>\n",
       "      <th>daily_supplement_dosage</th>\n",
       "      <th>target</th>\n",
       "    </tr>\n",
       "  </thead>\n",
       "  <tbody>\n",
       "    <tr>\n",
       "      <th>0</th>\n",
       "      <td>56</td>\n",
       "      <td>Male</td>\n",
       "      <td>173.416872</td>\n",
       "      <td>56.886640</td>\n",
       "      <td>18.915925</td>\n",
       "      <td>72.165130</td>\n",
       "      <td>118.264254</td>\n",
       "      <td>60.749825</td>\n",
       "      <td>214.580523</td>\n",
       "      <td>103.008176</td>\n",
       "      <td>...</td>\n",
       "      <td>High</td>\n",
       "      <td>5</td>\n",
       "      <td>Moderate</td>\n",
       "      <td>No</td>\n",
       "      <td>Yes</td>\n",
       "      <td>0</td>\n",
       "      <td>1.0</td>\n",
       "      <td>5.5</td>\n",
       "      <td>-2.275502</td>\n",
       "      <td>healthy</td>\n",
       "    </tr>\n",
       "    <tr>\n",
       "      <th>1</th>\n",
       "      <td>69</td>\n",
       "      <td>Female</td>\n",
       "      <td>163.207380</td>\n",
       "      <td>97.799859</td>\n",
       "      <td>36.716278</td>\n",
       "      <td>85.598889</td>\n",
       "      <td>117.917986</td>\n",
       "      <td>66.463696</td>\n",
       "      <td>120.081375</td>\n",
       "      <td>116.905134</td>\n",
       "      <td>...</td>\n",
       "      <td>High</td>\n",
       "      <td>5</td>\n",
       "      <td>High</td>\n",
       "      <td>Yes</td>\n",
       "      <td>No</td>\n",
       "      <td>0</td>\n",
       "      <td>1.0</td>\n",
       "      <td>5.5</td>\n",
       "      <td>6.239340</td>\n",
       "      <td>healthy</td>\n",
       "    </tr>\n",
       "    <tr>\n",
       "      <th>2</th>\n",
       "      <td>46</td>\n",
       "      <td>Male</td>\n",
       "      <td>177.281966</td>\n",
       "      <td>80.687562</td>\n",
       "      <td>25.673050</td>\n",
       "      <td>90.295030</td>\n",
       "      <td>123.073698</td>\n",
       "      <td>76.043212</td>\n",
       "      <td>138.134787</td>\n",
       "      <td>89.180302</td>\n",
       "      <td>...</td>\n",
       "      <td>High</td>\n",
       "      <td>4</td>\n",
       "      <td>Moderate</td>\n",
       "      <td>No</td>\n",
       "      <td>No</td>\n",
       "      <td>0</td>\n",
       "      <td>1.0</td>\n",
       "      <td>5.5</td>\n",
       "      <td>5.423737</td>\n",
       "      <td>healthy</td>\n",
       "    </tr>\n",
       "    <tr>\n",
       "      <th>3</th>\n",
       "      <td>32</td>\n",
       "      <td>Female</td>\n",
       "      <td>172.101255</td>\n",
       "      <td>63.142868</td>\n",
       "      <td>21.318480</td>\n",
       "      <td>100.504211</td>\n",
       "      <td>148.173453</td>\n",
       "      <td>68.781981</td>\n",
       "      <td>203.017447</td>\n",
       "      <td>128.375798</td>\n",
       "      <td>...</td>\n",
       "      <td>High</td>\n",
       "      <td>1</td>\n",
       "      <td>Moderate</td>\n",
       "      <td>No</td>\n",
       "      <td>Yes</td>\n",
       "      <td>0</td>\n",
       "      <td>1.0</td>\n",
       "      <td>5.5</td>\n",
       "      <td>8.388611</td>\n",
       "      <td>healthy</td>\n",
       "    </tr>\n",
       "    <tr>\n",
       "      <th>4</th>\n",
       "      <td>60</td>\n",
       "      <td>Female</td>\n",
       "      <td>163.608816</td>\n",
       "      <td>40.000000</td>\n",
       "      <td>14.943302</td>\n",
       "      <td>69.021150</td>\n",
       "      <td>150.613181</td>\n",
       "      <td>92.335358</td>\n",
       "      <td>200.412439</td>\n",
       "      <td>94.813332</td>\n",
       "      <td>...</td>\n",
       "      <td>High</td>\n",
       "      <td>1</td>\n",
       "      <td>High</td>\n",
       "      <td>Yes</td>\n",
       "      <td>Yes</td>\n",
       "      <td>0</td>\n",
       "      <td>1.0</td>\n",
       "      <td>5.5</td>\n",
       "      <td>0.332622</td>\n",
       "      <td>healthy</td>\n",
       "    </tr>\n",
       "  </tbody>\n",
       "</table>\n",
       "<p>5 rows × 44 columns</p>\n",
       "</div>"
      ],
      "text/plain": [
       "   age  gender      height     weight        bmi  waist_size  blood_pressure  \\\n",
       "0   56    Male  173.416872  56.886640  18.915925   72.165130      118.264254   \n",
       "1   69  Female  163.207380  97.799859  36.716278   85.598889      117.917986   \n",
       "2   46    Male  177.281966  80.687562  25.673050   90.295030      123.073698   \n",
       "3   32  Female  172.101255  63.142868  21.318480  100.504211      148.173453   \n",
       "4   60  Female  163.608816  40.000000  14.943302   69.021150      150.613181   \n",
       "\n",
       "   heart_rate  cholesterol     glucose  ...  sunlight_exposure  meals_per_day  \\\n",
       "0   60.749825   214.580523  103.008176  ...               High              5   \n",
       "1   66.463696   120.081375  116.905134  ...               High              5   \n",
       "2   76.043212   138.134787   89.180302  ...               High              4   \n",
       "3   68.781981   203.017447  128.375798  ...               High              1   \n",
       "4   92.335358   200.412439   94.813332  ...               High              1   \n",
       "\n",
       "  caffeine_intake  family_history  pet_owner  electrolyte_level  \\\n",
       "0        Moderate              No        Yes                  0   \n",
       "1            High             Yes         No                  0   \n",
       "2        Moderate              No         No                  0   \n",
       "3        Moderate              No        Yes                  0   \n",
       "4            High             Yes        Yes                  0   \n",
       "\n",
       "   gene_marker_flag  environmental_risk_score daily_supplement_dosage   target  \n",
       "0               1.0                       5.5               -2.275502  healthy  \n",
       "1               1.0                       5.5                6.239340  healthy  \n",
       "2               1.0                       5.5                5.423737  healthy  \n",
       "3               1.0                       5.5                8.388611  healthy  \n",
       "4               1.0                       5.5                0.332622  healthy  \n",
       "\n",
       "[5 rows x 44 columns]"
      ]
     },
     "execution_count": 6,
     "metadata": {},
     "output_type": "execute_result"
    }
   ],
   "source": [
    "df = pd.read_csv(r\"C:\\Users\\amash\\disease-risk\\data\\processed\\preprocessed_data.csv\")\n",
    "df.head()"
   ]
  },
  {
   "cell_type": "code",
   "execution_count": 7,
   "id": "69eea04d-e11e-4d92-a90b-5cf0748a8e16",
   "metadata": {},
   "outputs": [
    {
     "name": "stdout",
     "output_type": "stream",
     "text": [
      "<class 'pandas.core.frame.DataFrame'>\n",
      "RangeIndex: 100000 entries, 0 to 99999\n",
      "Data columns (total 44 columns):\n",
      " #   Column                    Non-Null Count   Dtype  \n",
      "---  ------                    --------------   -----  \n",
      " 0   age                       100000 non-null  int64  \n",
      " 1   gender                    100000 non-null  object \n",
      " 2   height                    100000 non-null  float64\n",
      " 3   weight                    100000 non-null  float64\n",
      " 4   bmi                       100000 non-null  float64\n",
      " 5   waist_size                100000 non-null  float64\n",
      " 6   blood_pressure            100000 non-null  float64\n",
      " 7   heart_rate                100000 non-null  float64\n",
      " 8   cholesterol               100000 non-null  float64\n",
      " 9   glucose                   100000 non-null  float64\n",
      " 10  insulin                   100000 non-null  float64\n",
      " 11  sleep_hours               100000 non-null  float64\n",
      " 12  sleep_quality             100000 non-null  object \n",
      " 13  work_hours                100000 non-null  float64\n",
      " 14  physical_activity         100000 non-null  float64\n",
      " 15  daily_steps               100000 non-null  float64\n",
      " 16  calorie_intake            100000 non-null  float64\n",
      " 17  sugar_intake              100000 non-null  float64\n",
      " 18  alcohol_consumption       100000 non-null  object \n",
      " 19  smoking_level             100000 non-null  object \n",
      " 20  water_intake              100000 non-null  float64\n",
      " 21  screen_time               100000 non-null  float64\n",
      " 22  stress_level              100000 non-null  int64  \n",
      " 23  mental_health_score       100000 non-null  int64  \n",
      " 24  mental_health_support     100000 non-null  object \n",
      " 25  education_level           100000 non-null  object \n",
      " 26  job_type                  100000 non-null  object \n",
      " 27  occupation                100000 non-null  object \n",
      " 28  income                    100000 non-null  float64\n",
      " 29  diet_type                 100000 non-null  object \n",
      " 30  exercise_type             100000 non-null  object \n",
      " 31  device_usage              100000 non-null  object \n",
      " 32  healthcare_access         100000 non-null  object \n",
      " 33  insurance                 100000 non-null  object \n",
      " 34  sunlight_exposure         100000 non-null  object \n",
      " 35  meals_per_day             100000 non-null  int64  \n",
      " 36  caffeine_intake           100000 non-null  object \n",
      " 37  family_history            100000 non-null  object \n",
      " 38  pet_owner                 100000 non-null  object \n",
      " 39  electrolyte_level         100000 non-null  int64  \n",
      " 40  gene_marker_flag          100000 non-null  float64\n",
      " 41  environmental_risk_score  100000 non-null  float64\n",
      " 42  daily_supplement_dosage   100000 non-null  float64\n",
      " 43  target                    100000 non-null  object \n",
      "dtypes: float64(21), int64(5), object(18)\n",
      "memory usage: 33.6+ MB\n"
     ]
    }
   ],
   "source": [
    "df.info()"
   ]
  },
  {
   "cell_type": "code",
   "execution_count": 8,
   "id": "5cac96be-319e-49bc-95e0-e668b6c6b9a1",
   "metadata": {},
   "outputs": [
    {
     "name": "stdout",
     "output_type": "stream",
     "text": [
      "Numeric columns (26): ['age', 'height', 'weight', 'bmi', 'waist_size', 'blood_pressure', 'heart_rate', 'cholesterol', 'glucose', 'insulin', 'sleep_hours', 'work_hours', 'physical_activity', 'daily_steps', 'calorie_intake', 'sugar_intake', 'water_intake', 'screen_time', 'stress_level', 'mental_health_score', 'income', 'meals_per_day', 'electrolyte_level', 'gene_marker_flag', 'environmental_risk_score', 'daily_supplement_dosage']\n",
      "Categorical columns (18): ['gender', 'sleep_quality', 'alcohol_consumption', 'smoking_level', 'mental_health_support', 'education_level', 'job_type', 'occupation', 'diet_type', 'exercise_type', 'device_usage', 'healthcare_access', 'insurance', 'sunlight_exposure', 'caffeine_intake', 'family_history', 'pet_owner', 'target']\n"
     ]
    }
   ],
   "source": [
    "numeric_cols = df.select_dtypes(include=['int64', 'float64']).columns\n",
    "categorical_cols = df.select_dtypes(include=['object', 'category']).columns\n",
    "\n",
    "print(f\"Numeric columns ({len(numeric_cols)}): {list(numeric_cols)}\")\n",
    "print(f\"Categorical columns ({len(categorical_cols)}): {list(categorical_cols)}\")\n",
    "\n"
   ]
  },
  {
   "cell_type": "code",
   "execution_count": 9,
   "id": "cea19566-5b64-414a-8262-c8ab3acd4ae5",
   "metadata": {},
   "outputs": [
    {
     "name": "stdout",
     "output_type": "stream",
     "text": [
      "gender: 2 categories\n",
      "sleep_quality: 4 categories\n",
      "alcohol_consumption: 2 categories\n",
      "smoking_level: 3 categories\n",
      "mental_health_support: 2 categories\n",
      "education_level: 4 categories\n",
      "job_type: 6 categories\n",
      "occupation: 6 categories\n",
      "diet_type: 4 categories\n",
      "exercise_type: 3 categories\n",
      "device_usage: 3 categories\n",
      "healthcare_access: 3 categories\n",
      "insurance: 2 categories\n",
      "sunlight_exposure: 3 categories\n",
      "caffeine_intake: 2 categories\n",
      "family_history: 2 categories\n",
      "pet_owner: 2 categories\n",
      "target: 2 categories\n"
     ]
    }
   ],
   "source": [
    "categorical_cols = df.select_dtypes(include=['object', 'category']).columns\n",
    "\n",
    "for col in categorical_cols:\n",
    "    print(f\"{col}: {df[col].nunique()} categories\")\n"
   ]
  },
  {
   "cell_type": "markdown",
   "id": "f768f588-33a4-41d2-8c2f-7bc922bb2a05",
   "metadata": {},
   "source": [
    "Biometrics - age, height, weight, bmi, waist_size, blood_pressure, heart_rate, cholesterol, glucose, insulin, electrolyte_level, mental_health_score, environmental_risk_score\n",
    "\n",
    "Lifestyle habbits - sleep_hours, work_hours, physical_activity, daily_steps, calorie_intake, sugar_intake, water_intake, screen_time, stress_level, income, meals_per_day, daily_supplement_dosage, gender, sleep_quality, alcohol_consumption, smoking_level, mental_health_support, education_level, job_type, occupation, diet_type, exercise_type, device_usage, healthcare_access, insurance, sunlight_exposure, caffeine_intake, family_history, pet_owner"
   ]
  },
  {
   "cell_type": "markdown",
   "id": "8f6f0f55-03ee-4f11-912d-fa01d3ab61db",
   "metadata": {},
   "source": [
    "1. Composition of the sample"
   ]
  },
  {
   "cell_type": "markdown",
   "id": "1e8b3f19-7b47-4b91-9d75-61f401faaccf",
   "metadata": {},
   "source": [
    "1.1 Analysing one categorical feature"
   ]
  },
  {
   "cell_type": "code",
   "execution_count": 57,
   "id": "3df3d414-8bd5-4345-92cc-ebd465b82a06",
   "metadata": {},
   "outputs": [
    {
     "name": "stdout",
     "output_type": "stream",
     "text": [
      "Current working directory: C:\\Users\\amash\\disease-risk\n"
     ]
    }
   ],
   "source": [
    "os.chdir(r\"C:\\Users\\amash\\disease-risk\")\n",
    "print(\"Current working directory:\", os.getcwd())"
   ]
  },
  {
   "cell_type": "code",
   "execution_count": 60,
   "id": "695b503c-7999-4b7c-8ad9-529e41e1a097",
   "metadata": {},
   "outputs": [
    {
     "name": "stdout",
     "output_type": "stream",
     "text": [
      "Figures will be saved in: C:\\Users\\amash\\disease-risk\\reports\\figures\\after_preprocessed\\composition_by_sample\n"
     ]
    }
   ],
   "source": [
    "#Drawing pie charts for categorical features\n",
    "categorical_cols = df.select_dtypes(include=['object', 'category']).columns\n",
    "categorical_cols = [col for col in categorical_cols if col != 'target']\n",
    "\n",
    "# Create a folder to save figures\n",
    "output_folder = r'reports/figures/after_preprocessed/composition_by_sample'\n",
    "os.makedirs(output_folder, exist_ok=True)\n",
    "print(\"Figures will be saved in:\", os.path.abspath(output_folder))\n",
    "\n",
    "# Define a color palette (extendable)\n",
    "colors = ['lightgreen', 'gold', 'salmon', 'skyblue', 'violet', 'orange']\n",
    "\n",
    "# Loop through all categorical columns\n",
    "for col in categorical_cols:\n",
    "    counts = df[col].value_counts()\n",
    "    percentages = counts/counts.sum() * 100\n",
    "    \n",
    "    plt.figure(figsize=(6,6))\n",
    "    plt.pie(percentages, labels=None, autopct='%1.1f%%', startangle=90, colors=colors[:len(counts)])\n",
    "    plt.title(f'Composition of {col}')\n",
    "    \n",
    "    # Legend outside\n",
    "    plt.legend(counts.index, title=col, loc='center left', bbox_to_anchor=(1.1, 0.5))\n",
    "    plt.tight_layout()\n",
    "    \n",
    "    # Save figure\n",
    "    plt.savefig(f'{output_folder}/pie_{col}.png')\n",
    "    plt.close() "
   ]
  },
  {
   "cell_type": "markdown",
   "id": "c44ccea3-8324-4523-a746-d5332671b097",
   "metadata": {},
   "source": [
    "### Composition of Gender\n",
    "![Gender](reports/figures/after_preprocessed/composition_by_sample/pie_gender.png)\n",
    "\n",
    "\n"
   ]
  },
  {
   "cell_type": "markdown",
   "id": "48f60ba0-b503-475b-8db8-02bc79e56d45",
   "metadata": {},
   "source": [
    "Number of females and males are approximately same."
   ]
  },
  {
   "cell_type": "markdown",
   "id": "27707c38-c689-4c42-804f-d5cc2c668763",
   "metadata": {},
   "source": [
    "### Composition of Sleep Quality\n",
    "![Sleep Quality](reports/figures/after_preprocessed/composition_by_sample/pie_sleep_quality.png)"
   ]
  },
  {
   "cell_type": "code",
   "execution_count": null,
   "id": "9d33cf4f-8811-41ab-9220-5ff3353a156c",
   "metadata": {},
   "outputs": [],
   "source": [
    "Sleep Quality consists of 4 categories: Excellent, Good, Fair, and Poor. \n"
   ]
  },
  {
   "cell_type": "markdown",
   "id": "0f19a2dd-3db1-4c13-91aa-12fe5ba12375",
   "metadata": {},
   "source": [
    "2. Data Description"
   ]
  },
  {
   "cell_type": "markdown",
   "id": "1ec3927a-2704-49de-b10b-32b33fab1da9",
   "metadata": {},
   "source": [
    "2.1 Analysing one quantitative feature"
   ]
  },
  {
   "cell_type": "code",
   "execution_count": 18,
   "id": "07d2fc75-a17b-49e0-a50a-2db9a76101c0",
   "metadata": {},
   "outputs": [],
   "source": [
    "os.chdir(r\"C:\\Users\\amash\\disease-risk\\reports\")"
   ]
  },
  {
   "cell_type": "code",
   "execution_count": 20,
   "id": "44dd670f-eb4d-4f2c-bdc2-c73aaec39128",
   "metadata": {},
   "outputs": [
    {
     "name": "stdout",
     "output_type": "stream",
     "text": [
      "Figures will be saved in: C:\\Users\\amash\\disease-risk\\reports\\reports\\figures\\after_preprocessed\\data_description\\box_plots\n"
     ]
    }
   ],
   "source": [
    "# Select numerical columns\n",
    "numeric_cols = df.select_dtypes(include=['int64', 'float64']).columns\n",
    "\n",
    "# Create output folder\n",
    "output_folder = r'reports\\figures\\after_preprocessed\\data_description\\box_plots'\n",
    "os.makedirs(output_folder, exist_ok=True)\n",
    "print(\"Figures will be saved in:\", os.path.abspath(output_folder))\n",
    "\n",
    "# Loop through each numeric column\n",
    "for col in numeric_cols:\n",
    "    plt.figure(figsize=(6, 6))\n",
    "    plt.boxplot(df[col].dropna(), vert=True, patch_artist=True,\n",
    "                boxprops=dict(facecolor=\"skyblue\", color=\"blue\"),\n",
    "                medianprops=dict(color=\"red\"))\n",
    "    \n",
    "    plt.title(f'Boxplot of {col}')\n",
    "    plt.ylabel(col)\n",
    "    \n",
    "    # Save figure\n",
    "    plt.savefig(f'{output_folder}/box_{col}.png')\n",
    "    plt.close()"
   ]
  },
  {
   "cell_type": "code",
   "execution_count": 16,
   "id": "b6d84d34-e833-4fce-9bb1-7e72efe5928a",
   "metadata": {},
   "outputs": [],
   "source": []
  },
  {
   "cell_type": "code",
   "execution_count": null,
   "id": "6dbecfaa-b978-4a68-ae80-6e57406cdf43",
   "metadata": {},
   "outputs": [],
   "source": []
  }
 ],
 "metadata": {
  "kernelspec": {
   "display_name": "Python 3 (ipykernel)",
   "language": "python",
   "name": "python3"
  },
  "language_info": {
   "codemirror_mode": {
    "name": "ipython",
    "version": 3
   },
   "file_extension": ".py",
   "mimetype": "text/x-python",
   "name": "python",
   "nbconvert_exporter": "python",
   "pygments_lexer": "ipython3",
   "version": "3.12.7"
  }
 },
 "nbformat": 4,
 "nbformat_minor": 5
}
